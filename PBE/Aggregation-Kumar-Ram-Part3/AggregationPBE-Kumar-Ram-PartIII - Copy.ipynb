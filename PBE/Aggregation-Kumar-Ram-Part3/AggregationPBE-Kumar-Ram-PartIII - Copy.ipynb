{
 "cells": [
  {
   "cell_type": "markdown",
   "metadata": {
    "slideshow": {
     "slide_type": "slide"
    }
   },
   "source": [
    "## Implementação de Balanço Populacional com efeitos de agregação de partículas\n",
    "\n",
    "**Referência:** Kumar & Ramkrishna 1997-Part \n",
    "III\n"
   ]
  },
  {
   "cell_type": "markdown",
   "metadata": {
    "slideshow": {
     "slide_type": "slide"
    }
   },
   "source": [
    "# O método: *Moving Sectional Method*\n",
    "\n"
   ]
  },
  {
   "cell_type": "markdown",
   "metadata": {
    "slideshow": {
     "slide_type": "fragment"
    }
   },
   "source": [
    "\n",
    "- **Combinação de método de discretização (Método das Classes) com o Método das Características:** \n",
    "    + suprime dificuldades de difusividade numérica e estabilidade de técnicas anteriores\n",
    "    + técnica genérica aplicável em diferentes casos"
   ]
  },
  {
   "cell_type": "markdown",
   "metadata": {
    "slideshow": {
     "slide_type": "fragment"
    }
   },
   "source": [
    "- **Aplicável para um *grid* arbitrário, permitindo controle da resolução e eficiência computacional**"
   ]
  },
  {
   "cell_type": "markdown",
   "metadata": {
    "slideshow": {
     "slide_type": "fragment"
    }
   },
   "source": [
    "- **Aplicável para processos particulados com mecanismos de:**\n",
    "    - Nucleação\n",
    "    - Crescimento\n",
    "    - Dissolução\n",
    "    - Agregação"
   ]
  },
  {
   "cell_type": "markdown",
   "metadata": {
    "slideshow": {
     "slide_type": "fragment"
    }
   },
   "source": [
    "Esta técnica tem como ponto chave a capacidade de acompanhar com rigor a presença das **descontinuidades móveis** (devido ao crescimento de partículas) "
   ]
  },
  {
   "cell_type": "markdown",
   "metadata": {
    "slideshow": {
     "slide_type": "slide"
    }
   },
   "source": [
    "Sistema de Equação Diferencial Ordinária com Nucleação, Crescimento e Agregação de Partículas via método _Moving Sectional Method_:\n",
    "\n",
    "$$ \\underset{\\text{Acúmulo de partículas por Bin}}{\\dfrac{dN_i(t)}{dt}} = \\underset{\\text{Termo de agregação}}{R_{agg}} + \\underset{\\text{Termo de nucleação}}{\\int_{v_i(t)}^{v_{i+1}(t)} S(v) dv} $$\n",
    "\n",
    "$$ R_{agg} = \\sum_{\\underset{x_{i-1}(t) \\leq \\nu(t) \\leq x_{i+1}(t)}{j,k}}^{i \\leq j\\leq k} [(1-\\frac{1}{2} \\delta_{j,k})\\eta q_{j,k} N_j(t)N_k(t)] - N_i(t)\\sum_{k=1}^{M}q_{i,k}N_k(t) $$ \n",
    "\n",
    "$$ \\dfrac{dx_i}{dt} = G(x_i) $$\n",
    "\n",
    "$$ \\eta = \\begin{cases}\n",
    "                \\dfrac{x_{i+1}(t) - \\nu}{x_{i+1}(t)-x_i(t)}\\text{, } x_i(t) \\leq \\nu \\leq x_{i+1}(t) \\\\\n",
    "                \\dfrac{x_{i-1}(t) - \\nu}{x_{i-1}(t)-x_i(t)}\\text{, } x_{i-1}(t) \\leq \\nu \\leq x_{i}(t) \n",
    "\\end{cases}$$\n",
    "\n",
    "$$ \\nu(t) = x_j(t)+x_k(t)$$\n"
   ]
  },
  {
   "cell_type": "markdown",
   "metadata": {},
   "source": [
    "$$ aa $$\n",
    "c = "
   ]
  },
  {
   "cell_type": "code",
   "execution_count": null,
   "metadata": {
    "collapsed": true
   },
   "outputs": [],
   "source": []
  },
  {
   "cell_type": "code",
   "execution_count": null,
   "metadata": {
    "collapsed": true
   },
   "outputs": [],
   "source": []
  },
  {
   "cell_type": "code",
   "execution_count": null,
   "metadata": {
    "collapsed": true
   },
   "outputs": [],
   "source": []
  }
 ],
 "metadata": {
  "celltoolbar": "Edit Metadata",
  "kernelspec": {
   "display_name": "Python 3",
   "language": "python",
   "name": "python3"
  },
  "language_info": {
   "codemirror_mode": {
    "name": "ipython",
    "version": 3
   },
   "file_extension": ".py",
   "mimetype": "text/x-python",
   "name": "python",
   "nbconvert_exporter": "python",
   "pygments_lexer": "ipython3",
   "version": "3.5.1"
  }
 },
 "nbformat": 4,
 "nbformat_minor": 0
}
